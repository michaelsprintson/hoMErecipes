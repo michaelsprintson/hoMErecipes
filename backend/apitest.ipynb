{
 "cells": [
  {
   "cell_type": "code",
   "execution_count": 1,
   "metadata": {},
   "outputs": [],
   "source": [
    "import requests\n",
    "import pandas as pd\n",
    "from functools import *\n",
    "import numpy as np\n",
    "import nltk\n",
    "%load_ext autoreload\n",
    "%autoreload 2\n",
    "import recip as rr\n",
    "import dill\n",
    "import submatcher as sm\n",
    "import hashlib"
   ]
  },
  {
   "cell_type": "code",
   "execution_count": 2,
   "metadata": {},
   "outputs": [],
   "source": [
    "inp = [\"flour\",\"butter\",\"milk\", \"egg\", \"cheese\"]"
   ]
  },
  {
   "cell_type": "code",
   "execution_count": 4,
   "metadata": {},
   "outputs": [
    {
     "name": "stdout",
     "output_type": "stream",
     "text": [
      "No recipe cache found\n",
      "getting ['butter', 'cheese', 'egg', 'flour', 'milk'] recipe\n",
      "No Fluffy Mozzarella Biscuits cache found\n",
      "getting Fluffy Mozzarella Biscuits recipe\n",
      "dumped Fluffy Mozzarella Biscuits to pickle\n",
      "No Cheese Muffins cache found\n",
      "getting Cheese Muffins recipe\n",
      "dumped Cheese Muffins to pickle\n",
      "recipe Cabrales Cheese Souffles with Endive and Asian Pear Salad cache found\n",
      "No Berry sweet empanadas cache found\n",
      "getting Berry sweet empanadas recipe\n",
      "dumped Berry sweet empanadas to pickle\n",
      "No Ocean-themed Vanilla Cupcakes for Broadway’s \"Anything Goes cache found\n",
      "getting Ocean-themed Vanilla Cupcakes for Broadway’s \"Anything Goes recipe\n",
      "dumped Ocean-themed Vanilla Cupcakes for Broadway’s \"Anything Goes to pickle\n",
      "recipe Cheesy Popovers cache found\n",
      "No Fancy French Cheese Puff Fake-out cache found\n",
      "getting Fancy French Cheese Puff Fake-out recipe\n",
      "dumped Fancy French Cheese Puff Fake-out to pickle\n",
      "No Parmesan Puffs cache found\n",
      "getting Parmesan Puffs recipe\n",
      "dumped Parmesan Puffs to pickle\n",
      "No Cheese Puffs cache found\n",
      "getting Cheese Puffs recipe\n",
      "dumped Cheese Puffs to pickle\n",
      "No Parmesan Herb Popovers Recipe cache found\n",
      "getting Parmesan Herb Popovers Recipe recipe\n",
      "dumped Parmesan Herb Popovers Recipe to pickle\n",
      "dumped recipes to pickle\n"
     ]
    }
   ],
   "source": [
    "allr = rr.GetRecipies(inp, recnum = 10)\n",
    "\n",
    "#add self.get() to __init__ and bottom 4 lines are replaced - just saving an API call for now\n",
    "# dbfile = open('resp.pkl', 'rb') \n",
    "# dbfile.seek(0)\n",
    "# allr.response =  dill.load(dbfile)\n",
    "\n",
    "# allr.process()"
   ]
  },
  {
   "cell_type": "code",
   "execution_count": 5,
   "metadata": {},
   "outputs": [
    {
     "name": "stdout",
     "output_type": "stream",
     "text": [
      "Recipe cache found\n",
      "recipe Fluffy Mozzarella Biscuits cache found\n",
      "recipe Cheese Muffins cache found\n",
      "recipe Cabrales Cheese Souffles with Endive and Asian Pear Salad cache found\n",
      "recipe Berry sweet empanadas cache found\n",
      "recipe Ocean-themed Vanilla Cupcakes for Broadway’s \"Anything Goes cache found\n",
      "recipe Cheesy Popovers cache found\n",
      "recipe Fancy French Cheese Puff Fake-out cache found\n",
      "recipe Parmesan Puffs cache found\n",
      "recipe Cheese Puffs cache found\n",
      "recipe Parmesan Herb Popovers Recipe cache found\n"
     ]
    }
   ],
   "source": [
    "allr = rr.GetRecipies(inp, recnum = 10)"
   ]
  },
  {
   "cell_type": "code",
   "execution_count": 8,
   "metadata": {},
   "outputs": [],
   "source": [
    "import json\n",
    "with open('testout.json', 'w', encoding='utf-8') as f:\n",
    "    json.dump(allr.to_json(), f)"
   ]
  }
 ],
 "metadata": {
  "kernelspec": {
   "display_name": "dsci_venv",
   "language": "python",
   "name": "dsci_venv"
  },
  "language_info": {
   "codemirror_mode": {
    "name": "ipython",
    "version": 3
   },
   "file_extension": ".py",
   "mimetype": "text/x-python",
   "name": "python",
   "nbconvert_exporter": "python",
   "pygments_lexer": "ipython3",
   "version": "3.7.4"
  }
 },
 "nbformat": 4,
 "nbformat_minor": 2
}
