{
 "cells": [
  {
   "cell_type": "code",
   "execution_count": 1,
   "metadata": {},
   "outputs": [],
   "source": [
    "import requests\n",
    "import pandas as pd\n",
    "from functools import *\n",
    "import numpy as np\n",
    "import nltk\n",
    "%load_ext autoreload\n",
    "%autoreload 2\n",
    "import recip as rr\n",
    "import dill\n",
    "import submatcher as sm"
   ]
  },
  {
   "cell_type": "code",
   "execution_count": 2,
   "metadata": {},
   "outputs": [],
   "source": [
    "inp = [\"flour\",\"butter\",\"milk\", \"egg\", \"cheese\"]"
   ]
  },
  {
   "cell_type": "code",
   "execution_count": 3,
   "metadata": {},
   "outputs": [],
   "source": [
    "allr = rr.GetRecipies(inp)\n",
    "\n",
    "#add self.get() to __init__ and bottom 4 lines are replaced - just saving an API call for now\n",
    "# dbfile = open('resp.pkl', 'rb') \n",
    "# dbfile.seek(0)\n",
    "# allr.response =  dill.load(dbfile)\n",
    "\n",
    "# allr.process()"
   ]
  },
  {
   "cell_type": "code",
   "execution_count": 4,
   "metadata": {},
   "outputs": [
    {
     "data": {
      "text/plain": [
       "{'Cabrales Cheese Souffles with Endive and Asian Pear Salad': {'attrs': {'vegetarian': False,\n",
       "   'vegan': False,\n",
       "   'glutenFree': False,\n",
       "   'dairyFree': False},\n",
       "  'cuisines': array(['Indian', 'Asian'], dtype='<U6'),\n",
       "  'id': 14438,\n",
       "  'imglink': 'https://spoonacular.com/recipeImages/14438-312x231.jpg',\n",
       "  'missedCount': 4,\n",
       "  'missedIngs': ['Endive and Asian Pear Salad',\n",
       "   '1/4 teaspoon coarse kosher salt',\n",
       "   '1/2 teaspoon coarsely ground black pepper',\n",
       "   '2 tablespoons (1/4 stick) unsalted butter'],\n",
       "  'name': 'Cabrales Cheese Souffles with Endive and Asian Pear Salad',\n",
       "  'price': 41.9,\n",
       "  'response': <Response [200]>,\n",
       "  'serving': 6,\n",
       "  'subIngs': {'ground pepper': {'hot pepper sauce': ['3/4 teaspoon cayenne pepper plus 1 teaspoon vinegar']},\n",
       "   'unsalted butter': {'butter (salted)': ['1 cup margarine ',\n",
       "     ' 1 cup shortening plus 1/2 teaspoon salt ',\n",
       "     ' 7/8 cup vegetable oil plus 1/2 teaspoon salt ',\n",
       "     ' 7/8 cup lard plus 1/2 teaspoon salt'],\n",
       "    'butter (unsalted)': ['1 cup shortening ',\n",
       "     ' 7/8 cup vegetable oil ',\n",
       "     ' 7/8 cup lard']}},\n",
       "  'urls': {'source': 'http://www.epicurious.com/recipes/food/views/Cabrales-Cheese-Souffles-with-Endive-and-Asian-Pear-Salad-109055',\n",
       "   'img': 'https://spoonacular.com/recipeImages/14438-556x370.jpg'},\n",
       "  'usedCount': 4,\n",
       "  'usedIngs': ['1/4 cup all purpose flour',\n",
       "   '6 ounces Cabrales or Maytag blue cheese, crumbled (about 3/4 cup packed)',\n",
       "   '3 large eggs, separated',\n",
       "   '1 cup whole milk']},\n",
       " 'Cheesy Popovers': {'attrs': {'vegetarian': False,\n",
       "   'vegan': False,\n",
       "   'glutenFree': False,\n",
       "   'dairyFree': False},\n",
       "  'cuisines': array([], dtype=float64),\n",
       "  'id': 543391,\n",
       "  'imglink': 'https://spoonacular.com/recipeImages/543391-312x231.jpg',\n",
       "  'missedCount': 3,\n",
       "  'missedIngs': ['1/2 cup parmesan cheese, grated',\n",
       "   '1/2 teaspoon salt',\n",
       "   '2 tablespoons unsalted butter, melted'],\n",
       "  'name': 'Cheesy Popovers',\n",
       "  'price': 35.77,\n",
       "  'response': <Response [200]>,\n",
       "  'serving': 9,\n",
       "  'subIngs': {'parmesan cheese': {'parmesan cheese': ['1/2 cup grated Asiago cheese ',\n",
       "     '1/2 cup grated Romano cheese']},\n",
       "   'unsalted butter': {'butter (salted)': ['1 cup margarine ',\n",
       "     ' 1 cup shortening plus 1/2 teaspoon salt ',\n",
       "     ' 7/8 cup vegetable oil plus 1/2 teaspoon salt ',\n",
       "     ' 7/8 cup lard plus 1/2 teaspoon salt'],\n",
       "    'butter (unsalted)': ['1 cup shortening ',\n",
       "     ' 7/8 cup vegetable oil ',\n",
       "     ' 7/8 cup lard']}},\n",
       "  'urls': {'source': 'http://weelicious.com/2011/12/19/cheesy-popovers/',\n",
       "   'img': 'https://spoonacular.com/recipeImages/543391-556x370.jpg'},\n",
       "  'usedCount': 3,\n",
       "  'usedIngs': ['2 cups all purpose flour', '3 large eggs', '2 cups milk']}}"
      ]
     },
     "execution_count": 4,
     "metadata": {},
     "output_type": "execute_result"
    }
   ],
   "source": [
    "allr.to_json()"
   ]
  },
  {
   "cell_type": "code",
   "execution_count": null,
   "metadata": {},
   "outputs": [],
   "source": []
  },
  {
   "cell_type": "code",
   "execution_count": 5,
   "metadata": {},
   "outputs": [],
   "source": [
    "r = allr.recser.iloc[0]"
   ]
  },
  {
   "cell_type": "code",
   "execution_count": 6,
   "metadata": {},
   "outputs": [],
   "source": [
    "dbrfile = open('respr.pkl', 'rb') \n",
    "r.response =  dill.load(dbrfile)\n",
    "r.setVars()"
   ]
  },
  {
   "cell_type": "code",
   "execution_count": 7,
   "metadata": {},
   "outputs": [
    {
     "data": {
      "text/plain": [
       "{'attrs': {'vegetarian': False,\n",
       "  'vegan': False,\n",
       "  'glutenFree': False,\n",
       "  'dairyFree': False},\n",
       " 'cuisines': array(['Indian', 'Asian'], dtype='<U6'),\n",
       " 'id': 14438,\n",
       " 'imglink': 'https://spoonacular.com/recipeImages/14438-312x231.jpg',\n",
       " 'missedCount': 4,\n",
       " 'missedIngs': ['Endive and Asian Pear Salad',\n",
       "  '1/4 teaspoon coarse kosher salt',\n",
       "  '1/2 teaspoon coarsely ground black pepper',\n",
       "  '2 tablespoons (1/4 stick) unsalted butter'],\n",
       " 'name': 'Cabrales Cheese Souffles with Endive and Asian Pear Salad',\n",
       " 'price': 41.9,\n",
       " 'response': <Response [200]>,\n",
       " 'serving': 6,\n",
       " 'subIngs': {'ground pepper': {'hot pepper sauce': ['3/4 teaspoon cayenne pepper plus 1 teaspoon vinegar']},\n",
       "  'unsalted butter': {'butter (salted)': ['1 cup margarine ',\n",
       "    ' 1 cup shortening plus 1/2 teaspoon salt ',\n",
       "    ' 7/8 cup vegetable oil plus 1/2 teaspoon salt ',\n",
       "    ' 7/8 cup lard plus 1/2 teaspoon salt'],\n",
       "   'butter (unsalted)': ['1 cup shortening ',\n",
       "    ' 7/8 cup vegetable oil ',\n",
       "    ' 7/8 cup lard']}},\n",
       " 'urls': {'source': 'http://www.epicurious.com/recipes/food/views/Cabrales-Cheese-Souffles-with-Endive-and-Asian-Pear-Salad-109055',\n",
       "  'img': 'https://spoonacular.com/recipeImages/14438-556x370.jpg'},\n",
       " 'usedCount': 4,\n",
       " 'usedIngs': ['1/4 cup all purpose flour',\n",
       "  '6 ounces Cabrales or Maytag blue cheese, crumbled (about 3/4 cup packed)',\n",
       "  '3 large eggs, separated',\n",
       "  '1 cup whole milk']}"
      ]
     },
     "execution_count": 7,
     "metadata": {},
     "output_type": "execute_result"
    }
   ],
   "source": [
    "r.to_json()"
   ]
  },
  {
   "cell_type": "code",
   "execution_count": null,
   "metadata": {
    "scrolled": true
   },
   "outputs": [],
   "source": []
  },
  {
   "cell_type": "code",
   "execution_count": null,
   "metadata": {},
   "outputs": [],
   "source": []
  }
 ],
 "metadata": {
  "kernelspec": {
   "display_name": "dsci_venv",
   "language": "python",
   "name": "dsci_venv"
  },
  "language_info": {
   "codemirror_mode": {
    "name": "ipython",
    "version": 3
   },
   "file_extension": ".py",
   "mimetype": "text/x-python",
   "name": "python",
   "nbconvert_exporter": "python",
   "pygments_lexer": "ipython3",
   "version": "3.7.4"
  }
 },
 "nbformat": 4,
 "nbformat_minor": 2
}
