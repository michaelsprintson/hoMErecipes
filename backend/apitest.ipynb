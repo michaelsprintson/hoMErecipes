{
 "cells": [
  {
   "cell_type": "code",
   "execution_count": 1,
   "metadata": {},
   "outputs": [],
   "source": [
    "import requests\n",
    "import pandas as pd\n",
    "from functools import *\n",
    "import numpy as np\n",
    "import nltk\n",
    "%load_ext autoreload\n",
    "%autoreload 2\n",
    "import recip as rr\n",
    "import dill\n",
    "import submatcher as sm\n",
    "import hashlib"
   ]
  },
  {
   "cell_type": "code",
   "execution_count": 2,
   "metadata": {},
   "outputs": [],
   "source": [
    "inp = [\"flour\",\"butter\",\"milk\", \"egg\", \"cheese\"]"
   ]
  },
  {
   "cell_type": "code",
   "execution_count": 3,
   "metadata": {},
   "outputs": [
    {
     "name": "stdout",
     "output_type": "stream",
     "text": [
      "Recipe cache found\n",
      "recipe Fluffy Mozzarella Biscuits cache found\n",
      "recipe Cheese Muffins cache found\n",
      "recipe Cabrales Cheese Souffles with Endive and Asian Pear Salad cache found\n",
      "recipe Berry sweet empanadas cache found\n",
      "recipe Ocean-themed Vanilla Cupcakes for Broadway’s \"Anything Goes cache found\n",
      "recipe Cheesy Popovers cache found\n",
      "recipe Fancy French Cheese Puff Fake-out cache found\n",
      "recipe Parmesan Puffs cache found\n",
      "recipe Cheese Puffs cache found\n",
      "recipe Parmesan Herb Popovers Recipe cache found\n"
     ]
    }
   ],
   "source": [
    "allr = rr.GetRecipies(inp, recnum = 9)\n"
   ]
  },
  {
   "cell_type": "code",
   "execution_count": 9,
   "metadata": {},
   "outputs": [],
   "source": [
    "tbdf = sm.makesubdict(\"https://www.allrecipes.com/article/common-ingredient-substitutions/\")"
   ]
  },
  {
   "cell_type": "code",
   "execution_count": 12,
   "metadata": {},
   "outputs": [
    {
     "data": {
      "text/plain": [
       "0     1/2 teaspoon cinnamon, 1/4 teaspoon ginger, an...\n",
       "1           1 tablespoon flour OR 1 teaspoon cornstarch\n",
       "2       1 cup pancake mix OR 1 cup Easy Biscuit Mixture\n",
       "3     1/4 teaspoon baking soda plus 1/2 teaspoon cre...\n",
       "4     4 teaspoons baking powder OR 1 teaspoon potass...\n",
       "5        1 cup nonalcoholic beer OR 1 cup chicken broth\n",
       "6     1 teaspoon imitation brandy extract plus enoug...\n",
       "7     1 cup cracker crumbs OR 1 cup matzo meal OR 1 ...\n",
       "8     1 bouillon cube plus 1 cup boiling water OR 1 ...\n",
       "9     1 cup white sugar plus 1/4 cup molasses and de...\n",
       "10    1 cup margarine OR 1 cup shortening plus 1/2 t...\n",
       "11    1 cup shortening OR 7/8 cup vegetable oil OR 7...\n",
       "12    1 cup yogurt OR 1 tablespoon lemon juice or vi...\n",
       "13    1 cup shredded Colby cheddar OR 1 cup shredded...\n",
       "14                   1 tablespoon chopped fresh parsley\n",
       "15    1 cup canned or homemade chicken broth or stoc...\n",
       "16    1 (1-ounce) square of unsweetened chocolate pl...\n",
       "17    3 tablespoons unsweetened cocoa plus 1 tablesp...\n",
       "18             1 (1-ounce) square unsweetened chocolate\n",
       "19    1 (10.75-ounce) can condensed cream of celery,...\n",
       "20    1 1/4 cup white sugar plus 1/3 cup water OR 1 ...\n",
       "21        1 cup farmer's cheese OR 1 cup ricotta cheese\n",
       "22    1 cup bread crumbs OR 1 cup matzo mealOR 1 cup...\n",
       "23                7/8 cup milk plus 1 tablespoon butter\n",
       "24    1 cup evaporated milk OR 3/4 cup milk plus 1/3...\n",
       "25    1 cup evaporated milk OR 3/4 cup milk plus 3 t...\n",
       "26                 1 cup frozen whipped topping, thawed\n",
       "27    1 cup pureed cottage cheese OR 1 cup plain yog...\n",
       "28                   2 teaspoons lemon juice or vinegar\n",
       "29    Combine 1 cup of heavy cream and 1 tablespoon ...\n",
       "                            ...                        \n",
       "59                       1 tablespoon dried mint leaves\n",
       "60    Mix 3/4 cup brown sugar and 1 teaspoon cream o...\n",
       "61    Mix together 1 tablespoon dried mustard, 1 tea...\n",
       "62    1 cup chopped green onions OR 1 cup chopped sh...\n",
       "63                      1 tablespoon other citrus juice\n",
       "64    1/2 teaspoon orange extract OR 1 teaspoon lemo...\n",
       "65    1/2 cup grated Asiago cheese OR 1/2 cup grated...\n",
       "66    1 tablespoon chopped fresh chervil OR 1 teaspo...\n",
       "67                                       1 ounce salami\n",
       "68    1 cup dried currants OR 1 cup dried cranberrie...\n",
       "69    1 cup cooked barley OR 1 cup cooked bulgur OR ...\n",
       "70        1 cup dry cottage cheese OR 1 cup silken tofu\n",
       "71    1/2 teaspoon rum extract, plus enough water to...\n",
       "72                                1/4 teaspoon turmeric\n",
       "73                                    1 ounce pepperoni\n",
       "74    1 cup chocolate candies OR 1 cup peanut butter...\n",
       "75    1/2 cup chopped onion, OR 1/2 cup chopped leek...\n",
       "76    1 cup butter OR 1 cup margarine minus 1/2 teas...\n",
       "77    1 cup plain yogurt OR 1 tablespoon lemon juice...\n",
       "78    1 tablespoon vinegar or lemon juice mixed with...\n",
       "79    1/4 cup Worcestershire sauce mixed with 1 tabl...\n",
       "80    1 cube beef or chicken bouillon dissolved in 1...\n",
       "81    3/4 cup white sugar mixed with 1/2 cup water a...\n",
       "82                1 cup applesauce OR 1 cup fruit puree\n",
       "83             1 cup lard OR 1 cup vegetable shortening\n",
       "84    1 teaspoon lemon or lime juice OR 2 teaspoons ...\n",
       "85    1 cup brown sugar OR 1 1/4 cups confectioners'...\n",
       "86    1 cup chicken or beef broth OR 1 cup fruit jui...\n",
       "87    1 cake compressed yeast OR 2 1/2 teaspoons act...\n",
       "88    1 cup sour cream OR 1 cup buttermilk OR 1 cup ...\n",
       "Name: tou, Length: 89, dtype: object"
      ]
     },
     "execution_count": 12,
     "metadata": {},
     "output_type": "execute_result"
    }
   ],
   "source": [
    "tbdf['tou']"
   ]
  },
  {
   "cell_type": "code",
   "execution_count": null,
   "metadata": {},
   "outputs": [],
   "source": []
  },
  {
   "cell_type": "code",
   "execution_count": null,
   "metadata": {},
   "outputs": [],
   "source": []
  },
  {
   "cell_type": "code",
   "execution_count": 5,
   "metadata": {},
   "outputs": [],
   "source": [
    "import json\n",
    "with open('testout.json', 'w', encoding='utf-8') as f:\n",
    "    json.dump(allr.to_json(), f)"
   ]
  }
 ],
 "metadata": {
  "kernelspec": {
   "display_name": "dsci_venv",
   "language": "python",
   "name": "dsci_venv"
  },
  "language_info": {
   "codemirror_mode": {
    "name": "ipython",
    "version": 3
   },
   "file_extension": ".py",
   "mimetype": "text/x-python",
   "name": "python",
   "nbconvert_exporter": "python",
   "pygments_lexer": "ipython3",
   "version": "3.7.4"
  }
 },
 "nbformat": 4,
 "nbformat_minor": 2
}
